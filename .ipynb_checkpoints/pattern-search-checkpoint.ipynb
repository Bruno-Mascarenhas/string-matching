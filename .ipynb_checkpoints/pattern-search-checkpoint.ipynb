{
 "cells": [
  {
   "cell_type": "code",
   "execution_count": 1,
   "metadata": {},
   "outputs": [],
   "source": [
    "ALPHABET = 256"
   ]
  },
  {
   "cell_type": "code",
   "execution_count": 2,
   "metadata": {},
   "outputs": [],
   "source": [
    "def makePi(pat):\n",
    "    \"\"\"\n",
    "    Params: pattern, text\n",
    "    Return: PI table, KMP algorithm\n",
    "    \"\"\"\n",
    "    size, i = 0, 1\n",
    "    n = len(pat)\n",
    "    \n",
    "    pi = [0]*n\n",
    "    \n",
    "    while i < n:\n",
    "        if pat[i] == pat[size]:\n",
    "            size += 1\n",
    "            pi[i] = size\n",
    "            i += 1\n",
    "        else:\n",
    "            if size != 0:\n",
    "                size = pi[size-1]\n",
    "            else:\n",
    "                pi[i] = 0\n",
    "                i += 1\n",
    "    \n",
    "    return pi"
   ]
  },
  {
   "cell_type": "code",
   "execution_count": 3,
   "metadata": {},
   "outputs": [],
   "source": [
    "def kmp(pat, text):\n",
    "    \"\"\"\n",
    "    Knuth-Morris-Pratt Algorithm\n",
    "    Params: pattern, text\n",
    "    Return: indexes of pattern matches\n",
    "    \"\"\"\n",
    "    m, n = len(pat), len(text)\n",
    "    i, j = 0, 0\n",
    "    \n",
    "    pi = makePi(pat)\n",
    "    \n",
    "    while i < n:\n",
    "        if pat[j] == text[i]:\n",
    "            i, j = i+1, j+1\n",
    "        if j == m:\n",
    "            #print(f'Match at index {i-j}')\n",
    "            j = pi[j-1]\n",
    "        elif i < n and pat[j] != text[i]:\n",
    "            if j != 0: \n",
    "                j = pi[j-1] \n",
    "            else: \n",
    "                i = i+1"
   ]
  },
  {
   "cell_type": "code",
   "execution_count": 4,
   "metadata": {},
   "outputs": [],
   "source": [
    "def badChar(pat):\n",
    "    \"\"\"\n",
    "    Params: pattern\n",
    "    Return: BadCharacter, Boyer-Moore Algorithm\n",
    "    \"\"\"\n",
    "    n = len(pat)\n",
    "    shift = [n]*ALPHABET\n",
    "    \n",
    "    for i in range(n-1):\n",
    "        shift[ord(pat[i])] = n - i -1\n",
    "    \n",
    "    return shift"
   ]
  },
  {
   "cell_type": "code",
   "execution_count": 5,
   "metadata": {},
   "outputs": [],
   "source": [
    "def bms(pat, text):\n",
    "    \"\"\"\n",
    "    Boyer-Moore Algorithm\n",
    "    Params: pattern, text\n",
    "    \"\"\"\n",
    "    m, n = len(pat), len(text)\n",
    "    \n",
    "    shiftTable = badChar(pat)\n",
    "    \n",
    "    i = m-1\n",
    "    \n",
    "    while i < n:\n",
    "        j = 0\n",
    "        while j < m and text[i-j] == pat[m-j-1]: \n",
    "            j+=1\n",
    "        if j == m: \n",
    "            #print(f'Match at index {i-m+1}')\n",
    "            pass\n",
    "        i = i + shiftTable[ord(text[i])]\n",
    "    "
   ]
  },
  {
   "cell_type": "code",
   "execution_count": 6,
   "metadata": {},
   "outputs": [],
   "source": [
    "def rabin_karp(pat, text):\n",
    "    pass"
   ]
  },
  {
   "cell_type": "code",
   "execution_count": 7,
   "metadata": {},
   "outputs": [
    {
     "name": "stdout",
     "output_type": "stream",
     "text": [
      "6.77 µs ± 176 ns per loop (mean ± std. dev. of 7 runs, 100000 loops each)\n",
      "5.89 µs ± 17.2 ns per loop (mean ± std. dev. of 7 runs, 100000 loops each)\n"
     ]
    }
   ],
   "source": [
    "text = 'ABABDABACDABABCABAB'\n",
    "pat = 'ABABCABAB'\n",
    "\n",
    "%timeit kmp(pat, text)\n",
    "#kmp(pat, text)\n",
    "\n",
    "%timeit bms(pat, text)\n",
    "#bms(pat, text)\n",
    "\n",
    "#%timeit rabinKarp(pat, text)\n",
    "#rabinKarp(pat, text)"
   ]
  },
  {
   "cell_type": "code",
   "execution_count": null,
   "metadata": {},
   "outputs": [],
   "source": []
  },
  {
   "cell_type": "code",
   "execution_count": null,
   "metadata": {},
   "outputs": [],
   "source": []
  }
 ],
 "metadata": {
  "kernelspec": {
   "display_name": "Python 3",
   "language": "python",
   "name": "python3"
  },
  "language_info": {
   "codemirror_mode": {
    "name": "ipython",
    "version": 3
   },
   "file_extension": ".py",
   "mimetype": "text/x-python",
   "name": "python",
   "nbconvert_exporter": "python",
   "pygments_lexer": "ipython3",
   "version": "3.8.5"
  }
 },
 "nbformat": 4,
 "nbformat_minor": 4
}
