{
 "cells": [
  {
   "cell_type": "markdown",
   "metadata": {},
   "source": [
    "## Constants"
   ]
  },
  {
   "cell_type": "code",
   "execution_count": 1,
   "metadata": {},
   "outputs": [],
   "source": [
    "#P = some prime number greater than alphabet size, MOD = some huge prime number, ALPHABET = alphabet size\n",
    "P = 257\n",
    "MOD = int(1e9) + 9\n",
    "ALPHABET = 256"
   ]
  },
  {
   "cell_type": "markdown",
   "metadata": {},
   "source": [
    "## KMP"
   ]
  },
  {
   "cell_type": "code",
   "execution_count": 2,
   "metadata": {},
   "outputs": [],
   "source": [
    "def makePi(pat):\n",
    "    \"\"\"\n",
    "    Params: pattern, text\n",
    "    Return: PI table, KMP algorithm\n",
    "    \"\"\"\n",
    "    size, i = 0, 1\n",
    "    n = len(pat)\n",
    "    \n",
    "    pi = [0]*n\n",
    "    \n",
    "    while i < n:\n",
    "        if pat[i] == pat[size]:\n",
    "            size += 1\n",
    "            pi[i] = size\n",
    "            i += 1\n",
    "        else:\n",
    "            if size != 0:\n",
    "                size = pi[size-1]\n",
    "            else:\n",
    "                pi[i] = 0\n",
    "                i += 1\n",
    "    \n",
    "    return pi"
   ]
  },
  {
   "cell_type": "code",
   "execution_count": 3,
   "metadata": {},
   "outputs": [],
   "source": [
    "def kmp(pat, text):\n",
    "    \"\"\"\n",
    "    Knuth-Morris-Pratt Algorithm\n",
    "    Params: pattern, text\n",
    "    Return: indexes of pattern matches using the PI table\n",
    "    \"\"\"\n",
    "    m, n = len(pat), len(text)\n",
    "    i, j = 0, 0\n",
    "    \n",
    "    pi = makePi(pat)\n",
    "    \n",
    "    idxs = []\n",
    "    while i < n:\n",
    "        if pat[j] == text[i]:\n",
    "            i, j = i+1, j+1\n",
    "        if j == m:\n",
    "            idxs.append(i-j)\n",
    "            j = pi[j-1]\n",
    "        elif i < n and pat[j] != text[i]:\n",
    "            if j != 0: \n",
    "                j = pi[j-1] \n",
    "            else: \n",
    "                i = i+1\n",
    "    \n",
    "    #print(idxs)\n",
    "    return idxs"
   ]
  },
  {
   "cell_type": "markdown",
   "metadata": {},
   "source": [
    "## Boyer-Moore"
   ]
  },
  {
   "cell_type": "code",
   "execution_count": 4,
   "metadata": {},
   "outputs": [],
   "source": [
    "def badChar(pat):\n",
    "    \"\"\"\n",
    "    Params: pattern\n",
    "    Return: BadCharacter table, Boyer-Moore Algorithm\n",
    "    \"\"\"\n",
    "    n = len(pat)\n",
    "    shift = [n]*ALPHABET\n",
    "    \n",
    "    for i in range(n-1):\n",
    "        shift[ord(pat[i])] = n - i -1\n",
    "    \n",
    "    return shift"
   ]
  },
  {
   "cell_type": "code",
   "execution_count": 5,
   "metadata": {},
   "outputs": [],
   "source": [
    "def bms(pat, text):\n",
    "    \"\"\"\n",
    "    Boyer-Moore Algorithm\n",
    "    Params: pattern, text\n",
    "    Return: indexes of pattern matches, comparisson from right to left\n",
    "    \"\"\"\n",
    "    m, n = len(pat), len(text)\n",
    "    \n",
    "    shiftTable = badChar(pat)\n",
    "    \n",
    "    i = m-1\n",
    "    \n",
    "    idxs = []\n",
    "    while i < n:\n",
    "        j = 0\n",
    "        while j < m and text[i-j] == pat[m-j-1]: \n",
    "            j+=1\n",
    "        if j == m: \n",
    "            idxs.append(i-m+1)\n",
    "        i = i + shiftTable[ord(text[i])]\n",
    "    \n",
    "    #print(idxs)\n",
    "    return idxs"
   ]
  },
  {
   "cell_type": "markdown",
   "metadata": {},
   "source": [
    "## Rabin-Karp"
   ]
  },
  {
   "cell_type": "code",
   "execution_count": 6,
   "metadata": {},
   "outputs": [],
   "source": [
    "\"\"\"\n",
    "Reference of optimizations: \n",
    "    https://cp-algorithms.com/string/string-hashing.html\n",
    "    https://cp-algorithms.com/string/rabin-karp.html\n",
    "\"\"\"\n",
    "def stringHash(pat, text):   \n",
    "    s, t = len(pat),len(text)\n",
    "    prime_pow = [1]*max(s, t)\n",
    "    \n",
    "    for i in range(1,len(prime_pow)):\n",
    "        prime_pow[i] = (prime_pow[i-1] * P) % MOD\n",
    "        \n",
    "    sHash = 0\n",
    "    for i in range(s):\n",
    "        sHash = (sHash + (ord(pat[i]) - ord('A') + 1) * prime_pow[i]) % MOD\n",
    "    \n",
    "    return sHash, prime_pow"
   ]
  },
  {
   "cell_type": "code",
   "execution_count": 7,
   "metadata": {},
   "outputs": [],
   "source": [
    "def rabin_karp(pat, text):\n",
    "    \"\"\"\n",
    "    Rabin-Karp Algorithm\n",
    "    Params: pattern, text\n",
    "    Return: indexes of pattern matches, based on rolling hash\n",
    "    \"\"\"\n",
    "    #sHash = hash of pattern, tHash = rolling hash of text, pPow pre-computed prime pow\n",
    "    sHash, pPow = stringHash(pat, text)\n",
    "    \n",
    "    s, t = len(pat),len(text)\n",
    "    \n",
    "    tHash = [0] * (t+1)\n",
    "    for i in range(t):\n",
    "        tHash[i+1] = (tHash[i] + (ord(text[i]) - ord('A') + 1) * pPow[i]) % MOD\n",
    "    \n",
    "    idxs = []\n",
    "    i = 0\n",
    "    while i+s-1 < t:\n",
    "        cur_h = (tHash[i+s] + MOD - tHash[i]) % MOD\n",
    "        \n",
    "        if cur_h == (sHash * pPow[i] % MOD):\n",
    "            idxs.append(i)\n",
    "        \n",
    "        i+=1\n",
    "\n",
    "    #print(idxs)\n",
    "    return idxs    "
   ]
  },
  {
   "cell_type": "markdown",
   "metadata": {},
   "source": [
    "## Testes"
   ]
  },
  {
   "cell_type": "code",
   "execution_count": 9,
   "metadata": {},
   "outputs": [
    {
     "name": "stdout",
     "output_type": "stream",
     "text": [
      "6.79 µs ± 101 ns per loop (mean ± std. dev. of 7 runs, 100000 loops each)\n",
      "6.19 µs ± 372 ns per loop (mean ± std. dev. of 7 runs, 100000 loops each)\n",
      "18.2 µs ± 228 ns per loop (mean ± std. dev. of 7 runs, 100000 loops each)\n"
     ]
    }
   ],
   "source": [
    "text = 'ABABDABACDABABCABAB'\n",
    "pat = 'ABABCABAB'\n",
    "\n",
    "%timeit kmp(pat, text)\n",
    "#kmp(pat, text)\n",
    "\n",
    "%timeit bms(pat, text)\n",
    "#bms(pat, text)\n",
    "\n",
    "%timeit rabin_karp(pat, text)\n",
    "#rabin_karp(pat, text)"
   ]
  }
 ],
 "metadata": {
  "kernelspec": {
   "display_name": "Python 3",
   "language": "python",
   "name": "python3"
  },
  "language_info": {
   "codemirror_mode": {
    "name": "ipython",
    "version": 3
   },
   "file_extension": ".py",
   "mimetype": "text/x-python",
   "name": "python",
   "nbconvert_exporter": "python",
   "pygments_lexer": "ipython3",
   "version": "3.8.5"
  }
 },
 "nbformat": 4,
 "nbformat_minor": 4
}
